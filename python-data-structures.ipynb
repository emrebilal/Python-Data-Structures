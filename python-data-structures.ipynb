{
 "cells": [
  {
   "cell_type": "markdown",
   "metadata": {},
   "source": [
    "<h3>LISTS<h3>"
   ]
  },
  {
   "cell_type": "code",
   "execution_count": 1,
   "metadata": {},
   "outputs": [
    {
     "name": "stdout",
     "output_type": "stream",
     "text": [
      "[38.4, 19.2, 12.8, 9.6]\n",
      "38.4\n"
     ]
    }
   ],
   "source": [
    "temp = [38.4, 19.2, 12.8, 9.6]\n",
    "print(temp)\n",
    "print(temp[0])"
   ]
  },
  {
   "cell_type": "code",
   "execution_count": 2,
   "metadata": {},
   "outputs": [
    {
     "name": "stdout",
     "output_type": "stream",
     "text": [
      "4\n"
     ]
    }
   ],
   "source": [
    "print(len(temp))"
   ]
  },
  {
   "cell_type": "markdown",
   "metadata": {},
   "source": [
    "<h4>Lists count()<h4>"
   ]
  },
  {
   "cell_type": "code",
   "execution_count": 3,
   "metadata": {},
   "outputs": [
    {
     "name": "stdout",
     "output_type": "stream",
     "text": [
      "4\n",
      "3\n",
      "2\n"
     ]
    }
   ],
   "source": [
    "list1 = [1, 1, 1, 2, 3, 2, 1]\n",
    "#Counts the number of times 1 appears in list1\n",
    "print(list1.count(1))\n",
    "\n",
    "list2 = ['a', 'a', 'a', 'b', 'b', 'a', 'c', 'b']\n",
    "#Counts the number of times 'b' appears in list2\n",
    "print(list2.count('b'))\n",
    "\n",
    "list3 = ['Cat', 'Bat', 'Sat', 'Cat', 'cat', 'Mat']\n",
    "#Counts the number of times 'Cat' appears in list3\n",
    "print(list3.count('Cat'))"
   ]
  },
  {
   "cell_type": "markdown",
   "metadata": {},
   "source": [
    "<h4>Lists sort()<h4>"
   ]
  },
  {
   "cell_type": "code",
   "execution_count": 4,
   "metadata": {},
   "outputs": [
    {
     "name": "stdout",
     "output_type": "stream",
     "text": [
      "['BMW', 'Ford', 'Volvo']\n"
     ]
    }
   ],
   "source": [
    "cars = ['Ford', 'BMW', 'Volvo']\n",
    "cars.sort()\n",
    "print(list(cars))"
   ]
  },
  {
   "cell_type": "code",
   "execution_count": 5,
   "metadata": {},
   "outputs": [
    {
     "name": "stdout",
     "output_type": "stream",
     "text": [
      "['Volvo', 'Ford', 'BMW']\n"
     ]
    }
   ],
   "source": [
    "cars.sort(reverse=True)\n",
    "print(list(cars))"
   ]
  },
  {
   "cell_type": "markdown",
   "metadata": {},
   "source": [
    "<h4>Lambda Operator<h4>"
   ]
  },
  {
   "cell_type": "code",
   "execution_count": 6,
   "metadata": {},
   "outputs": [
    {
     "name": "stdout",
     "output_type": "stream",
     "text": [
      "125\n",
      "125\n"
     ]
    }
   ],
   "source": [
    "def cube(y):\n",
    "    return y*y*y\n",
    "g = lambda x: x*x*x\n",
    "\n",
    "print(cube(5))\n",
    "print(g(5))"
   ]
  },
  {
   "cell_type": "markdown",
   "metadata": {},
   "source": [
    "<h4>map()<h4>"
   ]
  },
  {
   "cell_type": "code",
   "execution_count": 7,
   "metadata": {},
   "outputs": [
    {
     "name": "stdout",
     "output_type": "stream",
     "text": [
      "<map object at 0x00000117FCE54970>\n",
      "[101.12, 66.56, 55.040000000000006, 49.28]\n"
     ]
    }
   ],
   "source": [
    "# map(function, iterable)\n",
    "\n",
    "tempc = [38.4, 19.2, 12.8, 9.6]\n",
    "tempf = map(lambda x: (float(9)/5)*x+32, tempc) #convert celcius to fahrenheit\n",
    "print(tempf)\n",
    "print(list(tempf)) #casting to list required!"
   ]
  },
  {
   "cell_type": "markdown",
   "metadata": {},
   "source": [
    "<h4>reduce()<h4>"
   ]
  },
  {
   "cell_type": "code",
   "execution_count": 8,
   "metadata": {},
   "outputs": [
    {
     "name": "stdout",
     "output_type": "stream",
     "text": [
      "The sum of the list elements is: 17\n",
      "The maximum element of the list is: 6\n"
     ]
    }
   ],
   "source": [
    "# reduce(fun,seq)\n",
    "# Use of lambda() with reduce()\n",
    "\n",
    "#importing functools for reduce\n",
    "import functools\n",
    "\n",
    "#initializing list\n",
    "lst = [1, 3, 5, 6, 2]\n",
    "\n",
    "#using reduce to compute sum of list\n",
    "print(\"The sum of the list elements is: \",end=\"\")\n",
    "print(functools.reduce(lambda a,b : a+b,lst))\n",
    "\n",
    "#using reduce to compute maximum element from list\n",
    "print(\"The maximum element of the list is: \",end=\"\")\n",
    "print(functools.reduce(lambda a,b : a if a > b else b,lst))"
   ]
  },
  {
   "cell_type": "markdown",
   "metadata": {},
   "source": [
    "<h4>filter()<h4>"
   ]
  },
  {
   "cell_type": "code",
   "execution_count": 9,
   "metadata": {},
   "outputs": [
    {
     "name": "stdout",
     "output_type": "stream",
     "text": [
      "The filtered letters are:\n",
      "e\n",
      "e\n"
     ]
    }
   ],
   "source": [
    "#function that filters vowels\n",
    "def fun(variable):\n",
    "    letters = ['a', 'e', 'i', 'o', 'u']\n",
    "    if (variable in letters):\n",
    "        return True\n",
    "    else:\n",
    "        return False\n",
    "\n",
    "#sequence\n",
    "sequence = ['g', 'e', 'e', 'j', 'k', 's', 'p', 'r']\n",
    "\n",
    "#using filter function\n",
    "filtered = filter(fun, sequence)\n",
    "\n",
    "print(\"The filtered letters are:\")\n",
    "for s in filtered:\n",
    "    print(s)"
   ]
  },
  {
   "cell_type": "code",
   "execution_count": 10,
   "metadata": {},
   "outputs": [
    {
     "name": "stdout",
     "output_type": "stream",
     "text": [
      "[1, 3, 5, 13]\n",
      "[0, 2, 8]\n"
     ]
    }
   ],
   "source": [
    "# Use of lambda() with filter()\n",
    "\n",
    "#a list contains both even and odd numbers\n",
    "seq = [0, 1, 2, 3, 5, 8, 13]\n",
    "\n",
    "#result contains odd numbers of the list\n",
    "result = filter(lambda x: x%2, seq)\n",
    "print(list(result))\n",
    "\n",
    "#result contains even numbers of the list\n",
    "result = filter(lambda x: x%2 == 0, seq)\n",
    "print(list(result))"
   ]
  },
  {
   "cell_type": "markdown",
   "metadata": {},
   "source": [
    "<h3>TUPLES<h3>"
   ]
  },
  {
   "cell_type": "code",
   "execution_count": 11,
   "metadata": {},
   "outputs": [
    {
     "data": {
      "text/plain": [
       "('Emre', 'Bilal', 24)"
      ]
     },
     "execution_count": 11,
     "metadata": {},
     "output_type": "execute_result"
    }
   ],
   "source": [
    "rec0 = \"Emre\", \"Bilal\", 24\n",
    "rec1 = \"Jeff\", \"Aven\", 45\n",
    "rec2 = \"Leo\", \"Messi\", 33\n",
    "rec3 = \"Emre\", \"Bilal\", 24\n",
    "\n",
    "rec0"
   ]
  },
  {
   "cell_type": "code",
   "execution_count": 12,
   "metadata": {},
   "outputs": [
    {
     "data": {
      "text/plain": [
       "3"
      ]
     },
     "execution_count": 12,
     "metadata": {},
     "output_type": "execute_result"
    }
   ],
   "source": [
    "len(rec0)"
   ]
  },
  {
   "cell_type": "code",
   "execution_count": 13,
   "metadata": {},
   "outputs": [
    {
     "name": "stdout",
     "output_type": "stream",
     "text": [
      "First Name: Emre\n"
     ]
    }
   ],
   "source": [
    "print(\"First Name: \" + rec0[0])"
   ]
  },
  {
   "cell_type": "code",
   "execution_count": 14,
   "metadata": {},
   "outputs": [
    {
     "name": "stdout",
     "output_type": "stream",
     "text": [
      "(('Emre', 'Bilal', 24), ('Jeff', 'Aven', 45), ('Leo', 'Messi', 33), ('Emre', 'Bilal', 24))\n"
     ]
    },
    {
     "data": {
      "text/plain": [
       "(('Emre', 'Bilal', 24),\n",
       " ('Jeff', 'Aven', 45),\n",
       " ('Leo', 'Messi', 33),\n",
       " ('Emre', 'Bilal', 24))"
      ]
     },
     "execution_count": 14,
     "metadata": {},
     "output_type": "execute_result"
    }
   ],
   "source": [
    "#create tuple of tuples\n",
    "all_recs = rec0, rec1, rec2, rec3\n",
    "\n",
    "print(all_recs)\n",
    "all_recs"
   ]
  },
  {
   "cell_type": "code",
   "execution_count": 15,
   "metadata": {},
   "outputs": [
    {
     "name": "stdout",
     "output_type": "stream",
     "text": [
      "[('Emre', 'Bilal', 24), ('Jeff', 'Aven', 45), ('Leo', 'Messi', 33), ('Emre', 'Bilal', 24)]\n"
     ]
    },
    {
     "data": {
      "text/plain": [
       "[('Emre', 'Bilal', 24),\n",
       " ('Jeff', 'Aven', 45),\n",
       " ('Leo', 'Messi', 33),\n",
       " ('Emre', 'Bilal', 24)]"
      ]
     },
     "execution_count": 15,
     "metadata": {},
     "output_type": "execute_result"
    }
   ],
   "source": [
    "#create list of tuples\n",
    "list_of_recs = [rec0, rec1, rec2, rec3]\n",
    "\n",
    "print(list_of_recs)\n",
    "list_of_recs"
   ]
  },
  {
   "cell_type": "markdown",
   "metadata": {},
   "source": [
    "<h3>DICTIONARIES<h3>"
   ]
  },
  {
   "cell_type": "code",
   "execution_count": 16,
   "metadata": {},
   "outputs": [
    {
     "data": {
      "text/plain": [
       "3"
      ]
     },
     "execution_count": 16,
     "metadata": {},
     "output_type": "execute_result"
    }
   ],
   "source": [
    "dict0 = {\n",
    "    'fname':'Emre',\n",
    "    'lname':'Bilal',\n",
    "    'pos':'developer'\n",
    "}\n",
    "dict1 = {'fname':'Jeff', 'lname':'Aven', 'pos':'director'}\n",
    "dict2 = {'fname':'David', 'lname':'Smith', 'pos':'ceo'}\n",
    "dict3 = {'fname':'Emre', 'lname':'Bilal', 'pos':'developer'}\n",
    "\n",
    "len(dict0)"
   ]
  },
  {
   "cell_type": "code",
   "execution_count": 17,
   "metadata": {},
   "outputs": [
    {
     "name": "stdout",
     "output_type": "stream",
     "text": [
      "Emre\n"
     ]
    }
   ],
   "source": [
    "print(dict0['fname'])"
   ]
  },
  {
   "cell_type": "code",
   "execution_count": 18,
   "metadata": {},
   "outputs": [
    {
     "data": {
      "text/plain": [
       "dict_keys(['fname', 'lname', 'pos'])"
      ]
     },
     "execution_count": 18,
     "metadata": {},
     "output_type": "execute_result"
    }
   ],
   "source": [
    "dict0.keys()"
   ]
  },
  {
   "cell_type": "code",
   "execution_count": 19,
   "metadata": {},
   "outputs": [
    {
     "data": {
      "text/plain": [
       "dict_values(['Emre', 'Bilal', 'developer'])"
      ]
     },
     "execution_count": 19,
     "metadata": {},
     "output_type": "execute_result"
    }
   ],
   "source": [
    "dict0.values()"
   ]
  },
  {
   "cell_type": "markdown",
   "metadata": {},
   "source": [
    "<h3>JSON (JavaScript Object Notation)<h3>"
   ]
  },
  {
   "cell_type": "code",
   "execution_count": 20,
   "metadata": {},
   "outputs": [
    {
     "data": {
      "text/plain": [
       "4"
      ]
     },
     "execution_count": 20,
     "metadata": {},
     "output_type": "execute_result"
    }
   ],
   "source": [
    "import json\n",
    "from pprint import pprint\n",
    "json_str = '''{\"people\" : [\n",
    "    {\"fname\": \"Emre\", \"lname\": \"Bilal\", \"tags\": [\"python\", \"java\"]},\n",
    "    {\"fname\": \"Jeff\", \"lname\": \"Aven\", \"tags\": [\"big data\", \"hadoop\"]},\n",
    "    {\"fname\": \"Doug\", \"lname\": \"Cutting\", \"tags\": [\"hadoop\", \"apache\", \"java\"]},\n",
    "    {\"fname\": \"John\", \"lname\": \"Doe\", \"tags\": []}\n",
    "]}'''\n",
    "people = json.loads(json_str)\n",
    "\n",
    "len(people[\"people\"])"
   ]
  },
  {
   "cell_type": "code",
   "execution_count": 21,
   "metadata": {},
   "outputs": [
    {
     "name": "stdout",
     "output_type": "stream",
     "text": [
      "Emre\n"
     ]
    }
   ],
   "source": [
    "print(people[\"people\"][0][\"fname\"])"
   ]
  },
  {
   "cell_type": "code",
   "execution_count": 22,
   "metadata": {},
   "outputs": [],
   "source": [
    "#add tag item to the first person\n",
    "people[\"people\"][0][\"tags\"].append('spark')"
   ]
  },
  {
   "cell_type": "code",
   "execution_count": 23,
   "metadata": {},
   "outputs": [
    {
     "name": "stdout",
     "output_type": "stream",
     "text": [
      "{'people': [{'fname': 'Emre',\n",
      "             'lname': 'Bilal',\n",
      "             'tags': ['python', 'java', 'spark']},\n",
      "            {'fname': 'Jeff', 'lname': 'Aven', 'tags': ['big data', 'hadoop']},\n",
      "            {'fname': 'Doug',\n",
      "             'lname': 'Cutting',\n",
      "             'tags': ['hadoop', 'apache', 'java']},\n",
      "            {'fname': 'John', 'lname': 'Doe', 'tags': []}]}\n"
     ]
    }
   ],
   "source": [
    "pprint(people)"
   ]
  },
  {
   "cell_type": "code",
   "execution_count": 24,
   "metadata": {},
   "outputs": [],
   "source": [
    "#delete the fourth person\n",
    "del people[\"people\"][3]"
   ]
  },
  {
   "cell_type": "code",
   "execution_count": 25,
   "metadata": {},
   "outputs": [
    {
     "name": "stdout",
     "output_type": "stream",
     "text": [
      "{'people': [{'fname': 'Emre',\n",
      "             'lname': 'Bilal',\n",
      "             'tags': ['python', 'java', 'spark']},\n",
      "            {'fname': 'Jeff', 'lname': 'Aven', 'tags': ['big data', 'hadoop']},\n",
      "            {'fname': 'Doug',\n",
      "             'lname': 'Cutting',\n",
      "             'tags': ['hadoop', 'apache', 'java']}]}\n"
     ]
    }
   ],
   "source": [
    "pprint(people)"
   ]
  },
  {
   "cell_type": "markdown",
   "metadata": {},
   "source": [
    "<h3>PICKLE<h3>"
   ]
  },
  {
   "cell_type": "code",
   "execution_count": 26,
   "metadata": {},
   "outputs": [
    {
     "name": "stdout",
     "output_type": "stream",
     "text": [
      "Emre\n"
     ]
    }
   ],
   "source": [
    "import _pickle as pickle\n",
    "obj = {\"fname\": \"Emre\",\n",
    "      \"lname\": \"Bilal\",\n",
    "      \"tags\": [\"python\",\"java\"]}\n",
    "str_obj = pickle.dumps(obj)\n",
    "pickled_obj = pickle.loads(str_obj)\n",
    "\n",
    "print(pickled_obj[\"fname\"])"
   ]
  },
  {
   "cell_type": "code",
   "execution_count": 27,
   "metadata": {},
   "outputs": [
    {
     "name": "stdout",
     "output_type": "stream",
     "text": [
      "['python', 'java', 'spark']\n"
     ]
    }
   ],
   "source": [
    "pickled_obj[\"tags\"].append('spark')\n",
    "print(str(pickled_obj[\"tags\"]))"
   ]
  },
  {
   "cell_type": "code",
   "execution_count": 28,
   "metadata": {},
   "outputs": [],
   "source": [
    "#dump pickled object to a string\n",
    "pickled_obj_str = pickle.dumps(pickled_obj)\n",
    "#dump pickled object to a pickle file\n",
    "pickle.dump(pickled_obj, open('object.pkl', 'wb'))"
   ]
  },
  {
   "cell_type": "markdown",
   "metadata": {},
   "source": [
    "<h4>Named Functions and Anonymous Functions in Python<h4>"
   ]
  },
  {
   "cell_type": "code",
   "execution_count": 29,
   "metadata": {},
   "outputs": [
    {
     "data": {
      "text/plain": [
       "2"
      ]
     },
     "execution_count": 29,
     "metadata": {},
     "output_type": "execute_result"
    }
   ],
   "source": [
    "# named function\n",
    "def plusone(x):\n",
    "    return x+1\n",
    "plusone(1)"
   ]
  },
  {
   "cell_type": "code",
   "execution_count": 30,
   "metadata": {},
   "outputs": [
    {
     "data": {
      "text/plain": [
       "function"
      ]
     },
     "execution_count": 30,
     "metadata": {},
     "output_type": "execute_result"
    }
   ],
   "source": [
    "type(plusone)"
   ]
  },
  {
   "cell_type": "code",
   "execution_count": 31,
   "metadata": {},
   "outputs": [
    {
     "data": {
      "text/plain": [
       "2"
      ]
     },
     "execution_count": 31,
     "metadata": {},
     "output_type": "execute_result"
    }
   ],
   "source": [
    "# anonymous function\n",
    "plusonefn = lambda x: x+1\n",
    "plusone(1)"
   ]
  },
  {
   "cell_type": "code",
   "execution_count": 32,
   "metadata": {},
   "outputs": [
    {
     "data": {
      "text/plain": [
       "function"
      ]
     },
     "execution_count": 32,
     "metadata": {},
     "output_type": "execute_result"
    }
   ],
   "source": [
    "type(plusonefn)"
   ]
  },
  {
   "cell_type": "code",
   "execution_count": 33,
   "metadata": {},
   "outputs": [
    {
     "data": {
      "text/plain": [
       "'plusone'"
      ]
     },
     "execution_count": 33,
     "metadata": {},
     "output_type": "execute_result"
    }
   ],
   "source": [
    "plusone.__name__"
   ]
  },
  {
   "cell_type": "code",
   "execution_count": 34,
   "metadata": {},
   "outputs": [
    {
     "data": {
      "text/plain": [
       "'<lambda>'"
      ]
     },
     "execution_count": 34,
     "metadata": {},
     "output_type": "execute_result"
    }
   ],
   "source": [
    "plusonefn.__name__"
   ]
  },
  {
   "cell_type": "markdown",
   "metadata": {},
   "source": [
    "<h4>Word Count Example with High Order Functions<h4>"
   ]
  },
  {
   "cell_type": "code",
   "execution_count": 35,
   "metadata": {},
   "outputs": [],
   "source": [
    "from pyspark import SparkConf\n",
    "from pyspark import SparkContext\n",
    "conf = SparkConf().setAppName('WordCountApp')\n",
    "sc = SparkContext(conf = conf)\n",
    "\n",
    "lines = sc.textFile(\"input.txt\")\n",
    "counts = lines.flatMap(lambda x: x.split(' ')) \\\n",
    "    .filter(lambda x: len(x) > 0) \\\n",
    "    .map(lambda x: (x, 1)) \\\n",
    "    .reduceByKey(lambda x, y: x+y) \\\n",
    "    .collect()"
   ]
  },
  {
   "cell_type": "code",
   "execution_count": 36,
   "metadata": {},
   "outputs": [
    {
     "name": "stdout",
     "output_type": "stream",
     "text": [
      "Machine: 1\n",
      "learning: 1\n",
      "is: 2\n",
      "of: 3\n",
      "artificial: 1\n",
      "focused: 1\n",
      "improve: 1\n",
      "programmed: 1\n",
      "do: 1\n",
      "so.: 1\n",
      "an: 1\n",
      "algorithm: 1\n",
      "sequence: 1\n",
      "statistical: 1\n",
      "steps.: 1\n",
      "machine: 1\n",
      "learning,: 1\n",
      "algorithms: 1\n",
      "are: 1\n",
      "in: 2\n",
      "massive: 1\n",
      "amounts: 1\n",
      "make: 1\n",
      "predictions: 2\n",
      "based: 1\n",
      "new: 1\n",
      "data.: 2\n",
      "The: 1\n",
      "algorithm,: 1\n",
      "more: 2\n",
      "accurate: 1\n",
      "become: 1\n",
      "as: 1\n",
      "processes: 1\n",
      "a: 2\n",
      "branch: 1\n",
      "intelligence: 1\n",
      "on: 2\n",
      "building: 1\n",
      "applications: 1\n",
      "that: 1\n",
      "learn: 1\n",
      "from: 1\n",
      "data: 3\n",
      "and: 4\n",
      "their: 1\n",
      "accuracy: 1\n",
      "over: 1\n",
      "time: 1\n",
      "without: 1\n",
      "being: 1\n",
      "to: 3\n",
      "In: 2\n",
      "science,: 1\n",
      "processing: 1\n",
      "trained: 1\n",
      "find: 1\n",
      "patterns: 1\n",
      "features: 1\n",
      "order: 1\n",
      "decisions: 2\n",
      "better: 1\n",
      "the: 3\n",
      "will: 1\n",
      "it: 1\n"
     ]
    }
   ],
   "source": [
    "for (word, count) in counts:\n",
    "    print(\"%s: %i\" % (word, count))"
   ]
  },
  {
   "cell_type": "markdown",
   "metadata": {},
   "source": [
    "<h3>CLOSURES<h3>"
   ]
  },
  {
   "cell_type": "code",
   "execution_count": 37,
   "metadata": {},
   "outputs": [
    {
     "data": {
      "text/plain": [
       "<function __main__.generate_message.<locals>.ret_message()>"
      ]
     },
     "execution_count": 37,
     "metadata": {},
     "output_type": "execute_result"
    }
   ],
   "source": [
    "def generate_message(concept):\n",
    "    def ret_message():\n",
    "        return 'This is an example of ' + concept\n",
    "    return ret_message\n",
    "\n",
    "call_func = generate_message('closures in Python')\n",
    "call_func"
   ]
  },
  {
   "cell_type": "code",
   "execution_count": 38,
   "metadata": {},
   "outputs": [
    {
     "data": {
      "text/plain": [
       "'This is an example of closures in Python'"
      ]
     },
     "execution_count": 38,
     "metadata": {},
     "output_type": "execute_result"
    }
   ],
   "source": [
    "call_func()"
   ]
  },
  {
   "cell_type": "code",
   "execution_count": 39,
   "metadata": {},
   "outputs": [
    {
     "data": {
      "text/plain": [
       "(<cell at 0x00000117FD21BD30: str object at 0x00000117FCEB3580>,)"
      ]
     },
     "execution_count": 39,
     "metadata": {},
     "output_type": "execute_result"
    }
   ],
   "source": [
    "#inspect closure\n",
    "call_func.__closure__"
   ]
  },
  {
   "cell_type": "code",
   "execution_count": 40,
   "metadata": {},
   "outputs": [
    {
     "data": {
      "text/plain": [
       "cell"
      ]
     },
     "execution_count": 40,
     "metadata": {},
     "output_type": "execute_result"
    }
   ],
   "source": [
    "type(call_func.__closure__[0])"
   ]
  },
  {
   "cell_type": "code",
   "execution_count": 41,
   "metadata": {},
   "outputs": [
    {
     "data": {
      "text/plain": [
       "'closures in Python'"
      ]
     },
     "execution_count": 41,
     "metadata": {},
     "output_type": "execute_result"
    }
   ],
   "source": [
    "call_func.__closure__[0].cell_contents"
   ]
  },
  {
   "cell_type": "code",
   "execution_count": 42,
   "metadata": {},
   "outputs": [
    {
     "data": {
      "text/plain": [
       "'This is an example of closures in Python'"
      ]
     },
     "execution_count": 42,
     "metadata": {},
     "output_type": "execute_result"
    }
   ],
   "source": [
    "#delete function\n",
    "del generate_message\n",
    "#call closure again\n",
    "call_func()"
   ]
  },
  {
   "cell_type": "code",
   "execution_count": 43,
   "metadata": {},
   "outputs": [],
   "source": [
    "#the closure still works"
   ]
  }
 ],
 "metadata": {
  "kernelspec": {
   "display_name": "Python 3",
   "language": "python",
   "name": "python3"
  },
  "language_info": {
   "codemirror_mode": {
    "name": "ipython",
    "version": 3
   },
   "file_extension": ".py",
   "mimetype": "text/x-python",
   "name": "python",
   "nbconvert_exporter": "python",
   "pygments_lexer": "ipython3",
   "version": "3.9.1"
  }
 },
 "nbformat": 4,
 "nbformat_minor": 4
}
